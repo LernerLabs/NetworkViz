{
 "cells": [
  {
   "cell_type": "code",
   "execution_count": 1,
   "id": "recent-brick",
   "metadata": {},
   "outputs": [],
   "source": [
    "import networkviz as nv"
   ]
  },
  {
   "cell_type": "code",
   "execution_count": 2,
   "id": "cheap-campbell",
   "metadata": {},
   "outputs": [
    {
     "data": {
      "text/plain": [
       "<module 'networkviz.data' from '/Users/mglerner/coding/LernerLabs/NetworkViz/networkviz/data.py'>"
      ]
     },
     "execution_count": 2,
     "metadata": {},
     "output_type": "execute_result"
    }
   ],
   "source": [
    "from networkviz import data\n",
    "import imp\n",
    "imp.reload(nv.data)"
   ]
  },
  {
   "cell_type": "markdown",
   "id": "weighted-valentine",
   "metadata": {},
   "source": [
    "The sample data is just a list of edges.\n",
    "\n",
    "We want to display networks with drivers and responses, so we make them up in the call to `get_sample_data`\n",
    "\n",
    "The basic data structures I use are\n",
    "\n",
    "* `dd`: a dictionary of drivers. Keys are drivers, all values should be True. If it's in the dictionary, it's a driver.\n",
    "* `rd`: same thing, but for responses.\n",
    "* `ed`: edges. I think you can see where this is going\n",
    "* `edges`: a list of edges. Sometimes it's useful to have a list of edges. This duplicates info in `ed`.\n",
    "* `nodes`: a list of nodes. More duplication, but convenient."
   ]
  },
  {
   "cell_type": "code",
   "execution_count": 3,
   "id": "fundamental-suicide",
   "metadata": {},
   "outputs": [],
   "source": [
    "dd,rd,ed,edges,nodes = data.get_sample_data(drivers=['COL4A1'],\n",
    "                                         responses=['ELN','GAS7']\n",
    "                                         )"
   ]
  },
  {
   "cell_type": "markdown",
   "id": "alike-johnston",
   "metadata": {},
   "source": [
    "Basic network visualization with [ipycytoscape](https://github.com/QuantStack/ipycytoscape), which you will have to install."
   ]
  },
  {
   "cell_type": "code",
   "execution_count": 4,
   "id": "designing-flesh",
   "metadata": {},
   "outputs": [
    {
     "name": "stdout",
     "output_type": "stream",
     "text": [
      "I started with 101 edges and ended up with 101\n",
      "I started with 57 nodes and ended up with 57\n"
     ]
    },
    {
     "data": {
      "application/vnd.jupyter.widget-view+json": {
       "model_id": "ba80f960614844d6b2943a5c8d857706",
       "version_major": 2,
       "version_minor": 0
      },
      "text/plain": [
       "CytoscapeWidget(cytoscape_layout={'name': 'cola'}, cytoscape_style=[{'selector': 'node', 'css': {'content': 'd…"
      ]
     },
     "metadata": {},
     "output_type": "display_data"
    }
   ],
   "source": [
    "nv.show_graph_cytoscape(ed,dd,rd,)"
   ]
  },
  {
   "cell_type": "markdown",
   "id": "numerical-aberdeen",
   "metadata": {},
   "source": [
    "Most of our methods assign scores to nodes. We can make random scores here, just for testing purposes.\n",
    "\n",
    "Since it's for testing, I explicitly set the random seed for reproducibility. Change it for actual randomness."
   ]
  },
  {
   "cell_type": "code",
   "execution_count": 5,
   "id": "proved-alabama",
   "metadata": {},
   "outputs": [
    {
     "name": "stdout",
     "output_type": "stream",
     "text": [
      "I started with 101 edges and ended up with 101\n",
      "I started with 57 nodes and ended up with 57\n"
     ]
    },
    {
     "data": {
      "application/vnd.jupyter.widget-view+json": {
       "model_id": "07954bfd839a409d87b4517531734c3f",
       "version_major": 2,
       "version_minor": 0
      },
      "text/plain": [
       "CytoscapeWidget(cytoscape_layout={'name': 'cola'}, cytoscape_style=[{'selector': 'node', 'css': {'content': 'd…"
      ]
     },
     "metadata": {},
     "output_type": "display_data"
    }
   ],
   "source": [
    "import imp\n",
    "imp.reload(nv)\n",
    "scores = nv.make_random_scores(nodes,seed=21203)\n",
    "nv.show_graph_cytoscape(ed,dd,rd,\n",
    "                       score_dict=scores)"
   ]
  },
  {
   "cell_type": "markdown",
   "id": "democratic-bruce",
   "metadata": {},
   "source": [
    "Show a restricted network, where only things that have a score of at least 40% of the 2nd highest node are shown. Why 2nd highest? We expect that a driver will have the highest score always, and that the interesting scaling comes from other nodes. Easy to change in the code if you want."
   ]
  },
  {
   "cell_type": "code",
   "execution_count": 6,
   "id": "dominant-breathing",
   "metadata": {},
   "outputs": [
    {
     "name": "stdout",
     "output_type": "stream",
     "text": [
      "I started with 101 edges and ended up with 82\n",
      "I started with 57 nodes and ended up with 48\n"
     ]
    },
    {
     "data": {
      "application/vnd.jupyter.widget-view+json": {
       "model_id": "02bfbc6802a94f988546a5436285fec6",
       "version_major": 2,
       "version_minor": 0
      },
      "text/plain": [
       "CytoscapeWidget(cytoscape_layout={'name': 'cola'}, cytoscape_style=[{'selector': 'node', 'css': {'content': 'd…"
      ]
     },
     "metadata": {},
     "output_type": "display_data"
    }
   ],
   "source": [
    "nv.show_graph_cytoscape(ed,dd,rd,\n",
    "                       score_dict=scores,\n",
    "                       score_cutoff=0.4)"
   ]
  },
  {
   "cell_type": "markdown",
   "id": "fantastic-breathing",
   "metadata": {},
   "source": [
    "You can use different layouts."
   ]
  },
  {
   "cell_type": "code",
   "execution_count": 7,
   "id": "studied-airport",
   "metadata": {},
   "outputs": [
    {
     "name": "stdout",
     "output_type": "stream",
     "text": [
      "I started with 101 edges and ended up with 101\n",
      "I started with 57 nodes and ended up with 57\n"
     ]
    },
    {
     "data": {
      "application/vnd.jupyter.widget-view+json": {
       "model_id": "93d65b9bff4b4916a870a448f48df085",
       "version_major": 2,
       "version_minor": 0
      },
      "text/plain": [
       "CytoscapeWidget(cytoscape_layout={'name': 'dagre'}, cytoscape_style=[{'selector': 'node', 'css': {'content': '…"
      ]
     },
     "metadata": {},
     "output_type": "display_data"
    }
   ],
   "source": [
    "nv.show_graph_cytoscape(ed,dd,rd,\n",
    "                       score_dict=scores,\n",
    "                       layout='dagre')"
   ]
  },
  {
   "cell_type": "markdown",
   "id": "serious-family",
   "metadata": {},
   "source": [
    "You can also point out certain nodes by forcing them to be \"highlighted\" .. in this case, \"highlight\" just makes them bigger. Here, note that TIMP2 is the 2nd node from the right in the top row. It's small in the above plot, big in the below plot."
   ]
  },
  {
   "cell_type": "code",
   "execution_count": 8,
   "id": "correct-things",
   "metadata": {},
   "outputs": [
    {
     "name": "stdout",
     "output_type": "stream",
     "text": [
      "I started with 101 edges and ended up with 101\n",
      "I started with 57 nodes and ended up with 57\n"
     ]
    },
    {
     "data": {
      "application/vnd.jupyter.widget-view+json": {
       "model_id": "d22bc106f64d4ae0bee6819953b38ec5",
       "version_major": 2,
       "version_minor": 0
      },
      "text/plain": [
       "CytoscapeWidget(cytoscape_layout={'name': 'dagre'}, cytoscape_style=[{'selector': 'node', 'css': {'content': '…"
      ]
     },
     "metadata": {},
     "output_type": "display_data"
    }
   ],
   "source": [
    "#force_highlight makes you big, doesn't change color\n",
    "nv.show_graph_cytoscape(ed,dd,rd,\n",
    "                       score_dict=scores,\n",
    "                       force_highlight=['TIMP2','NID1'],\n",
    "                       layout='dagre')"
   ]
  },
  {
   "cell_type": "markdown",
   "id": "decent-ebony",
   "metadata": {},
   "source": [
    "We can also restrict the plot to just things connected to interesting nodes. If we do that, it is often confusing to also use scores. If you disagree, it's easy to just not raise the error below."
   ]
  },
  {
   "cell_type": "code",
   "execution_count": 9,
   "id": "amended-break",
   "metadata": {},
   "outputs": [
    {
     "ename": "ValueError",
     "evalue": "You have specified both score_dict and interesting_nodes. If you just want to plot things from score_dict, please stop specifying interesting_nodes",
     "output_type": "error",
     "traceback": [
      "\u001b[0;31m---------------------------------------------------------------------------\u001b[0m",
      "\u001b[0;31mValueError\u001b[0m                                Traceback (most recent call last)",
      "\u001b[0;32m<ipython-input-9-be71fcd76ff0>\u001b[0m in \u001b[0;36m<module>\u001b[0;34m\u001b[0m\n\u001b[1;32m      4\u001b[0m                        \u001b[0mforce_highlight\u001b[0m\u001b[0;34m=\u001b[0m\u001b[0;34m[\u001b[0m\u001b[0;34m'TIMP2'\u001b[0m\u001b[0;34m,\u001b[0m\u001b[0;34m'NID1'\u001b[0m\u001b[0;34m]\u001b[0m\u001b[0;34m,\u001b[0m\u001b[0;34m\u001b[0m\u001b[0;34m\u001b[0m\u001b[0m\n\u001b[1;32m      5\u001b[0m                         \u001b[0minteresting_nodes\u001b[0m\u001b[0;34m=\u001b[0m\u001b[0;34m[\u001b[0m\u001b[0;34m'COL4A1'\u001b[0m\u001b[0;34m,\u001b[0m\u001b[0;34m'THBS2'\u001b[0m\u001b[0;34m]\u001b[0m\u001b[0;34m,\u001b[0m\u001b[0;34m\u001b[0m\u001b[0;34m\u001b[0m\u001b[0m\n\u001b[0;32m----> 6\u001b[0;31m                        layout='dagre')\n\u001b[0m",
      "\u001b[0;32m~/coding/LernerLabs/NetworkViz/networkviz/__init__.py\u001b[0m in \u001b[0;36mshow_graph_cytoscape\u001b[0;34m(edge_dict, driver_dict, response_dict, interesting_nodes, remove_nodes, layout, force_highlight, score_dict, normalize_scores, score_cutoff, color_by_score, size_by_score)\u001b[0m\n\u001b[1;32m     58\u001b[0m \u001b[0;34m\u001b[0m\u001b[0m\n\u001b[1;32m     59\u001b[0m     \u001b[0;32mif\u001b[0m \u001b[0mscore_dict\u001b[0m \u001b[0;32mis\u001b[0m \u001b[0;32mnot\u001b[0m \u001b[0;32mNone\u001b[0m \u001b[0;32mand\u001b[0m \u001b[0minteresting_nodes\u001b[0m \u001b[0;32mis\u001b[0m \u001b[0;32mnot\u001b[0m \u001b[0;32mNone\u001b[0m\u001b[0;34m:\u001b[0m\u001b[0;34m\u001b[0m\u001b[0;34m\u001b[0m\u001b[0m\n\u001b[0;32m---> 60\u001b[0;31m         \u001b[0;32mraise\u001b[0m \u001b[0mValueError\u001b[0m\u001b[0;34m(\u001b[0m\u001b[0;34m\"You have specified both score_dict and interesting_nodes. If you just want to plot things from score_dict, please stop specifying interesting_nodes\"\u001b[0m\u001b[0;34m)\u001b[0m\u001b[0;34m\u001b[0m\u001b[0;34m\u001b[0m\u001b[0m\n\u001b[0m\u001b[1;32m     61\u001b[0m     \u001b[0;32mif\u001b[0m \u001b[0mscore_dict\u001b[0m \u001b[0;32mis\u001b[0m \u001b[0;32mnot\u001b[0m \u001b[0;32mNone\u001b[0m \u001b[0;32mand\u001b[0m \u001b[0minteresting_nodes\u001b[0m \u001b[0;32mis\u001b[0m \u001b[0;32mNone\u001b[0m\u001b[0;34m:\u001b[0m\u001b[0;34m\u001b[0m\u001b[0;34m\u001b[0m\u001b[0m\n\u001b[1;32m     62\u001b[0m         \u001b[0minteresting_nodes\u001b[0m \u001b[0;34m=\u001b[0m \u001b[0mlist\u001b[0m\u001b[0;34m(\u001b[0m\u001b[0mscore_dict\u001b[0m\u001b[0;34m.\u001b[0m\u001b[0mkeys\u001b[0m\u001b[0;34m(\u001b[0m\u001b[0;34m)\u001b[0m\u001b[0;34m)\u001b[0m\u001b[0;34m\u001b[0m\u001b[0;34m\u001b[0m\u001b[0m\n",
      "\u001b[0;31mValueError\u001b[0m: You have specified both score_dict and interesting_nodes. If you just want to plot things from score_dict, please stop specifying interesting_nodes"
     ]
    }
   ],
   "source": [
    "#only plot things connected to interesting_nodes\n",
    "nv.show_graph_cytoscape(ed,dd,rd,\n",
    "                       score_dict=scores,\n",
    "                       force_highlight=['TIMP2','NID1'],\n",
    "                        interesting_nodes=['COL4A1','THBS2'],\n",
    "                       layout='dagre')"
   ]
  },
  {
   "cell_type": "markdown",
   "id": "stretch-partner",
   "metadata": {},
   "source": [
    "Anyway, here's what it looks like to restrict the above."
   ]
  },
  {
   "cell_type": "code",
   "execution_count": 10,
   "id": "classical-honolulu",
   "metadata": {},
   "outputs": [
    {
     "name": "stdout",
     "output_type": "stream",
     "text": [
      "I started with 13 edges and ended up with 13\n",
      "I started with 8 nodes and ended up with 8\n"
     ]
    },
    {
     "data": {
      "application/vnd.jupyter.widget-view+json": {
       "model_id": "a2d81676ada747669cf7ec2ce36e3372",
       "version_major": 2,
       "version_minor": 0
      },
      "text/plain": [
       "CytoscapeWidget(cytoscape_layout={'name': 'dagre'}, cytoscape_style=[{'selector': 'node', 'css': {'content': '…"
      ]
     },
     "metadata": {},
     "output_type": "display_data"
    }
   ],
   "source": [
    "#only plot things connected to interesting_nodes\n",
    "nv.show_graph_cytoscape(ed,dd,rd,\n",
    "                       force_highlight=['TIMP2','NID1'],\n",
    "                        interesting_nodes=['COL4A1','THBS2'],\n",
    "                       layout='dagre')"
   ]
  },
  {
   "cell_type": "code",
   "execution_count": 11,
   "id": "optional-might",
   "metadata": {},
   "outputs": [
    {
     "name": "stdout",
     "output_type": "stream",
     "text": [
      "I started with 101 edges and ended up with 101\n",
      "I started with 57 nodes and ended up with 57\n"
     ]
    },
    {
     "data": {
      "application/vnd.jupyter.widget-view+json": {
       "model_id": "2f4a4504377840c3b65246566c7bb37c",
       "version_major": 2,
       "version_minor": 0
      },
      "text/plain": [
       "CytoscapeWidget(cytoscape_layout={'name': 'dagre'}, cytoscape_style=[{'selector': 'node', 'css': {'content': '…"
      ]
     },
     "metadata": {},
     "output_type": "display_data"
    }
   ],
   "source": [
    "#only plot things connected to interesting_nodes\n",
    "imp.reload(nv)\n",
    "nv.show_graph_cytoscape(ed,dd,rd,\n",
    "                       force_highlight=['TIMP2','NID1'],\n",
    "                        #interesting_nodes=['COL4A1','THBS2'],\n",
    "                       layout='dagre')"
   ]
  },
  {
   "cell_type": "markdown",
   "id": "terminal-guess",
   "metadata": {},
   "source": [
    "You might also like to remove nodes."
   ]
  },
  {
   "cell_type": "code",
   "execution_count": 12,
   "id": "polar-corruption",
   "metadata": {},
   "outputs": [
    {
     "name": "stdout",
     "output_type": "stream",
     "text": [
      "I started with 91 edges and ended up with 91\n",
      "I started with 55 nodes and ended up with 55\n"
     ]
    },
    {
     "data": {
      "application/vnd.jupyter.widget-view+json": {
       "model_id": "372ec02ce36c4cff9d3bb1b543448cd0",
       "version_major": 2,
       "version_minor": 0
      },
      "text/plain": [
       "CytoscapeWidget(cytoscape_layout={'name': 'dagre'}, cytoscape_style=[{'selector': 'node', 'css': {'content': '…"
      ]
     },
     "metadata": {},
     "output_type": "display_data"
    }
   ],
   "source": [
    "# Make something that removes nodes properly. This one that goes through interesting nodes fails because interesting nodes can re-connect things.\n",
    "\n",
    "imp.reload(nv)\n",
    "nv.show_graph_cytoscape(ed,dd,rd,\n",
    "                       force_highlight=['TIMP2','NID1'],\n",
    "                        remove_nodes=['THY1','COL4A1'],\n",
    "                       layout='dagre')"
   ]
  },
  {
   "cell_type": "code",
   "execution_count": 13,
   "id": "imported-school",
   "metadata": {},
   "outputs": [
    {
     "name": "stdout",
     "output_type": "stream",
     "text": [
      "I started with 91 edges and ended up with 91\n",
      "I started with 55 nodes and ended up with 55\n"
     ]
    },
    {
     "data": {
      "application/vnd.jupyter.widget-view+json": {
       "model_id": "3fa5621769fe41e5be129c7e19fa787c",
       "version_major": 2,
       "version_minor": 0
      },
      "text/plain": [
       "CytoscapeWidget(cytoscape_layout={'name': 'dagre'}, cytoscape_style=[{'selector': 'node', 'css': {'content': '…"
      ]
     },
     "metadata": {},
     "output_type": "display_data"
    }
   ],
   "source": [
    "#force_highlight makes you big, doesn't change color\n",
    "nv.show_graph_cytoscape(ed,dd,rd,\n",
    "                       score_dict=scores,\n",
    "                       force_highlight=['TIMP2','NID1'],\n",
    "                        remove_nodes=['THY1','COL4A1'],\n",
    "                       layout='dagre')"
   ]
  },
  {
   "cell_type": "markdown",
   "id": "recovered-hollywood",
   "metadata": {},
   "source": [
    "You can also change whether the score affects the color, size, or both."
   ]
  },
  {
   "cell_type": "code",
   "execution_count": 14,
   "id": "dedicated-hydrogen",
   "metadata": {},
   "outputs": [
    {
     "name": "stdout",
     "output_type": "stream",
     "text": [
      "I started with 91 edges and ended up with 91\n",
      "I started with 55 nodes and ended up with 55\n"
     ]
    },
    {
     "data": {
      "application/vnd.jupyter.widget-view+json": {
       "model_id": "4fa671fa94774723bec330be8a98900f",
       "version_major": 2,
       "version_minor": 0
      },
      "text/plain": [
       "CytoscapeWidget(cytoscape_layout={'name': 'dagre'}, cytoscape_style=[{'selector': 'node', 'css': {'content': '…"
      ]
     },
     "metadata": {},
     "output_type": "display_data"
    }
   ],
   "source": [
    "imp.reload(nv)\n",
    "#force_highlight makes you big, doesn't change color\n",
    "nv.show_graph_cytoscape(ed,dd,rd,\n",
    "                       score_dict=scores,\n",
    "                       force_highlight=['TIMP2','NID1'],\n",
    "                        remove_nodes=['THY1','COL4A1'],\n",
    "                       layout='dagre',\n",
    "                       color_by_score=True,\n",
    "                       size_by_score=True)"
   ]
  },
  {
   "cell_type": "code",
   "execution_count": 15,
   "id": "dress-violation",
   "metadata": {},
   "outputs": [
    {
     "name": "stdout",
     "output_type": "stream",
     "text": [
      "I started with 91 edges and ended up with 91\n",
      "I started with 55 nodes and ended up with 55\n"
     ]
    },
    {
     "data": {
      "application/vnd.jupyter.widget-view+json": {
       "model_id": "fde9a743372142219fe648d8a2f376eb",
       "version_major": 2,
       "version_minor": 0
      },
      "text/plain": [
       "CytoscapeWidget(cytoscape_layout={'name': 'dagre'}, cytoscape_style=[{'selector': 'node', 'css': {'content': '…"
      ]
     },
     "metadata": {},
     "output_type": "display_data"
    }
   ],
   "source": [
    "nv.show_graph_cytoscape(ed,dd,rd,\n",
    "                       score_dict=scores,\n",
    "                       force_highlight=['TIMP2','NID1'],\n",
    "                        remove_nodes=['THY1','COL4A1'],\n",
    "                       layout='dagre',\n",
    "                       color_by_score=False,\n",
    "                       size_by_score=True)"
   ]
  },
  {
   "cell_type": "code",
   "execution_count": 16,
   "id": "awful-dublin",
   "metadata": {},
   "outputs": [
    {
     "name": "stdout",
     "output_type": "stream",
     "text": [
      "I started with 91 edges and ended up with 91\n",
      "I started with 55 nodes and ended up with 55\n"
     ]
    },
    {
     "data": {
      "application/vnd.jupyter.widget-view+json": {
       "model_id": "acad3dc7af3543b4a6c8be67bf49e20e",
       "version_major": 2,
       "version_minor": 0
      },
      "text/plain": [
       "CytoscapeWidget(cytoscape_layout={'name': 'dagre'}, cytoscape_style=[{'selector': 'node', 'css': {'content': '…"
      ]
     },
     "metadata": {},
     "output_type": "display_data"
    }
   ],
   "source": [
    "nv.show_graph_cytoscape(ed,dd,rd,\n",
    "                       score_dict=scores,\n",
    "                       force_highlight=['TIMP2','NID1'],\n",
    "                        remove_nodes=['THY1','COL4A1'],\n",
    "                       layout='dagre',\n",
    "                       color_by_score=True,\n",
    "                       size_by_score=False)"
   ]
  },
  {
   "cell_type": "code",
   "execution_count": 17,
   "id": "anonymous-western",
   "metadata": {},
   "outputs": [
    {
     "name": "stdout",
     "output_type": "stream",
     "text": [
      "I started with 91 edges and ended up with 91\n",
      "I started with 55 nodes and ended up with 55\n"
     ]
    },
    {
     "data": {
      "application/vnd.jupyter.widget-view+json": {
       "model_id": "b13bbab697d0464aafd545df5eed7698",
       "version_major": 2,
       "version_minor": 0
      },
      "text/plain": [
       "CytoscapeWidget(cytoscape_layout={'name': 'dagre'}, cytoscape_style=[{'selector': 'node', 'css': {'content': '…"
      ]
     },
     "metadata": {},
     "output_type": "display_data"
    }
   ],
   "source": [
    "nv.show_graph_cytoscape(ed,dd,rd,\n",
    "                       score_dict=scores,\n",
    "                       force_highlight=['TIMP2','NID1'],\n",
    "                        remove_nodes=['THY1','COL4A1'],\n",
    "                       layout='dagre',\n",
    "                       color_by_score=False,\n",
    "                       size_by_score=False)"
   ]
  },
  {
   "cell_type": "code",
   "execution_count": null,
   "id": "collaborative-director",
   "metadata": {},
   "outputs": [],
   "source": []
  }
 ],
 "metadata": {
  "kernelspec": {
   "display_name": "Python 3",
   "language": "python",
   "name": "python3"
  },
  "language_info": {
   "codemirror_mode": {
    "name": "ipython",
    "version": 3
   },
   "file_extension": ".py",
   "mimetype": "text/x-python",
   "name": "python",
   "nbconvert_exporter": "python",
   "pygments_lexer": "ipython3",
   "version": "3.7.7"
  }
 },
 "nbformat": 4,
 "nbformat_minor": 5
}
